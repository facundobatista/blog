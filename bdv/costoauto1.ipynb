{
 "metadata": {
  "name": "Untitled0"
 },
 "nbformat": 3,
 "nbformat_minor": 0,
 "worksheets": [
  {
   "cells": [
    {
     "cell_type": "heading",
     "level": 1,
     "metadata": {},
     "source": "Datos del primer a\u00f1o"
    },
    {
     "cell_type": "code",
     "collapsed": false,
     "input": "from decimal import Decimal\n\nkm = 23642\n\nestacionamiento = Decimal(\"3761.25\")\nseguro = Decimal(\"4457.00\")\npatente = Decimal(\"2545.20\")\nmantenimiento = Decimal(\"3539.00\")\nnafta = Decimal(\"11641.92\")\npeajes = Decimal(\"1281.69\")\n\n_valor_compra = Decimal(\"91500\")\n_valor_residual = Decimal(\"20000\")\namortizacion = (_valor_compra - _valor_residual) / 5\nprint \"Amortizaci\u00f3n (cinco a\u00f1os):\", amortizacion",
     "language": "python",
     "metadata": {},
     "outputs": [
      {
       "output_type": "stream",
       "stream": "stdout",
       "text": "Amortizaci\u00f3n (cinco a\u00f1os): 14300\n"
      }
     ],
     "prompt_number": 21
    },
    {
     "cell_type": "heading",
     "level": 3,
     "metadata": {},
     "source": "asdad"
    },
    {
     "cell_type": "code",
     "collapsed": false,
     "input": "fijos = seguro + patente + mantenimiento + amortizacion\nvariables = estacionamiento + nafta + peajes\ntotal = fijos + variables\nprint \"Total del a\u00f1o:\", total\nprint \"Total por mes:\", total / 12\nprint \"Total por kil\u00f3metro:\", total / km",
     "language": "python",
     "metadata": {},
     "outputs": [
      {
       "output_type": "stream",
       "stream": "stdout",
       "text": "Total del a\u00f1o: 41526.06\nTotal por mes: 3460.505\nTotal por kil\u00f3metro: 1.756452922764571525251670755\n"
      }
     ],
     "prompt_number": 22
    },
    {
     "cell_type": "code",
     "collapsed": false,
     "input": "print \"Fijos por mes:\", fijos / 12\nprint \"Fijos por mes (sin amortizaci\u00f3n):\", (fijos - amortizacion) / 12\nprint \"Variables por mes:\", variables / 12\nprint \"Variables por km:\", variables / km",
     "language": "python",
     "metadata": {},
     "outputs": [
      {
       "output_type": "stream",
       "stream": "stdout",
       "text": "Fijos por mes: 2070.10\nFijos por mes (sin amortizaci\u00f3n): 878.4333333333333333333333333\nVariables por mes: 1390.405\nVariables por km: 0.7057296337027324253447254885\n"
      }
     ],
     "prompt_number": 23
    },
    {
     "cell_type": "code",
     "collapsed": false,
     "input": "print 100 * nafta / total",
     "language": "python",
     "metadata": {},
     "outputs": [
      {
       "output_type": "stream",
       "stream": "stdout",
       "text": "28.03521451348863821898826905\n"
      }
     ],
     "prompt_number": 24
    }
   ],
   "metadata": {}
  }
 ]
}